{
 "cells": [
  {
   "cell_type": "markdown",
   "id": "spectacular-oxford",
   "metadata": {},
   "source": [
    "# Writing data to and reading data from a Database using Python"
   ]
  },
  {
   "cell_type": "markdown",
   "id": "14d7fbf5",
   "metadata": {},
   "source": [
    "## Libraries and settings"
   ]
  },
  {
   "cell_type": "code",
   "execution_count": 59,
   "id": "6b7c9af0",
   "metadata": {},
   "outputs": [
    {
     "name": "stdout",
     "output_type": "stream",
     "text": [
      "/Users/rodion/Desktop/data_analytics/Week_02\n"
     ]
    }
   ],
   "source": [
    "# Libraries\n",
    "import os\n",
    "import sqlite3\n",
    "import fnmatch\n",
    "import numpy as np\n",
    "import pandas as pd\n",
    "import matplotlib.pyplot as plt\n",
    "\n",
    "# Ignore warnings\n",
    "import warnings\n",
    "warnings.filterwarnings(\"ignore\")\n",
    "\n",
    "# Function to close a sqlite db-connection\n",
    "def check_conn(conn):\n",
    "     try:\n",
    "        conn.cursor()\n",
    "        return True\n",
    "     except Exception as ex:\n",
    "        return False\n",
    "\n",
    "# Get current working directory\n",
    "print(os.getcwd())"
   ]
  },
  {
   "cell_type": "markdown",
   "id": "0b880d4d",
   "metadata": {},
   "source": [
    "## Create sqlite data base"
   ]
  },
  {
   "cell_type": "code",
   "execution_count": 60,
   "id": "240f7517",
   "metadata": {},
   "outputs": [
    {
     "name": "stdout",
     "output_type": "stream",
     "text": [
      "apartment_database.db\n"
     ]
    }
   ],
   "source": [
    "# Create data base\n",
    "conn = sqlite3.connect('apartment_database.db') \n",
    "cursor = conn.cursor()\n",
    "\n",
    "# Show dbs in the directory\n",
    "flist = fnmatch.filter(os.listdir('.'), '*.db')\n",
    "for i in flist:\n",
    "    print(i)"
   ]
  },
  {
   "cell_type": "markdown",
   "id": "aff97772",
   "metadata": {},
   "source": [
    "## Create SQL-table in the database"
   ]
  },
  {
   "cell_type": "code",
   "execution_count": 61,
   "id": "a3d83cba",
   "metadata": {},
   "outputs": [],
   "source": [
    "cursor.execute('''CREATE TABLE IF NOT EXISTS apartments_table (OrderId VARCHAR(50),\n",
    "                                                               Adress VARCHAR(200),\n",
    "                                                               Rooms DECIMAL(8,2),\n",
    "                                                               Area INT(8),\n",
    "                                                               Price DECIMAL(8,2))''')\n",
    "# Confirm changes to the table\n",
    "conn.commit()"
   ]
  },
  {
   "cell_type": "markdown",
   "id": "a87c8dee",
   "metadata": {},
   "source": [
    "## Read data from file to data frame"
   ]
  },
  {
   "cell_type": "code",
   "execution_count": 62,
   "id": "34300bd6",
   "metadata": {},
   "outputs": [
    {
     "name": "stdout",
     "output_type": "stream",
     "text": [
      "(1008, 5)\n"
     ]
    },
    {
     "data": {
      "text/html": [
       "<div>\n",
       "<style scoped>\n",
       "    .dataframe tbody tr th:only-of-type {\n",
       "        vertical-align: middle;\n",
       "    }\n",
       "\n",
       "    .dataframe tbody tr th {\n",
       "        vertical-align: top;\n",
       "    }\n",
       "\n",
       "    .dataframe thead th {\n",
       "        text-align: right;\n",
       "    }\n",
       "</style>\n",
       "<table border=\"1\" class=\"dataframe\">\n",
       "  <thead>\n",
       "    <tr style=\"text-align: right;\">\n",
       "      <th></th>\n",
       "      <th>web-scraper-order</th>\n",
       "      <th>address_raw</th>\n",
       "      <th>rooms</th>\n",
       "      <th>area</th>\n",
       "      <th>price</th>\n",
       "    </tr>\n",
       "  </thead>\n",
       "  <tbody>\n",
       "    <tr>\n",
       "      <th>0</th>\n",
       "      <td>1693998201-1</td>\n",
       "      <td>Neuhusstrasse 6, 8630 Rüti ZH, ZH</td>\n",
       "      <td>3.0</td>\n",
       "      <td>49.0</td>\n",
       "      <td>1441.0</td>\n",
       "    </tr>\n",
       "    <tr>\n",
       "      <th>1</th>\n",
       "      <td>1693998201-2</td>\n",
       "      <td>Zürcherstrasse 1, 8173 Neerach, ZH</td>\n",
       "      <td>3.5</td>\n",
       "      <td>65.0</td>\n",
       "      <td>1850.0</td>\n",
       "    </tr>\n",
       "    <tr>\n",
       "      <th>2</th>\n",
       "      <td>1693998201-3</td>\n",
       "      <td>Cramerstrasse 8-12, 8004 Zürich, ZH</td>\n",
       "      <td>NaN</td>\n",
       "      <td>NaN</td>\n",
       "      <td>2686.0</td>\n",
       "    </tr>\n",
       "    <tr>\n",
       "      <th>3</th>\n",
       "      <td>1693998201-4</td>\n",
       "      <td>Cramerstrasse 8-12, 8004 Zürich, ZH</td>\n",
       "      <td>2.0</td>\n",
       "      <td>54.0</td>\n",
       "      <td>4853.0</td>\n",
       "    </tr>\n",
       "    <tr>\n",
       "      <th>4</th>\n",
       "      <td>1693998201-5</td>\n",
       "      <td>Rotachstrasse 33, 8003 Zürich, ZH</td>\n",
       "      <td>2.0</td>\n",
       "      <td>49.0</td>\n",
       "      <td>4335.0</td>\n",
       "    </tr>\n",
       "  </tbody>\n",
       "</table>\n",
       "</div>"
      ],
      "text/plain": [
       "  web-scraper-order                          address_raw  rooms  area   price\n",
       "0      1693998201-1    Neuhusstrasse 6, 8630 Rüti ZH, ZH    3.0  49.0  1441.0\n",
       "1      1693998201-2   Zürcherstrasse 1, 8173 Neerach, ZH    3.5  65.0  1850.0\n",
       "2      1693998201-3  Cramerstrasse 8-12, 8004 Zürich, ZH    NaN   NaN  2686.0\n",
       "3      1693998201-4  Cramerstrasse 8-12, 8004 Zürich, ZH    2.0  54.0  4853.0\n",
       "4      1693998201-5    Rotachstrasse 33, 8003 Zürich, ZH    2.0  49.0  4335.0"
      ]
     },
     "execution_count": 62,
     "metadata": {},
     "output_type": "execute_result"
    }
   ],
   "source": [
    "df = pd.read_csv('apartments_data_prepared.csv',\n",
    "                  sep=',', \n",
    "                  encoding='utf-8')[['web-scraper-order', 'address_raw', 'rooms', 'area', 'price']]\n",
    "print(df.shape)\n",
    "df.head(5)"
   ]
  },
  {
   "cell_type": "markdown",
   "id": "ef970dfe",
   "metadata": {},
   "source": [
    "## Write data to the SQL-table in data base"
   ]
  },
  {
   "cell_type": "code",
   "execution_count": 63,
   "id": "1c728ac7",
   "metadata": {},
   "outputs": [
    {
     "data": {
      "text/plain": [
       "1008"
      ]
     },
     "execution_count": 63,
     "metadata": {},
     "output_type": "execute_result"
    }
   ],
   "source": [
    "df.to_sql(name = 'apartments_table',\n",
    "          con = conn,\n",
    "          index = False,\n",
    "          if_exists = 'replace')"
   ]
  },
  {
   "cell_type": "markdown",
   "id": "43c2ef9f",
   "metadata": {},
   "source": [
    "## Query the SQL-table"
   ]
  },
  {
   "cell_type": "code",
   "execution_count": 64,
   "id": "48dcc02c",
   "metadata": {},
   "outputs": [
    {
     "data": {
      "text/html": [
       "<div>\n",
       "<style scoped>\n",
       "    .dataframe tbody tr th:only-of-type {\n",
       "        vertical-align: middle;\n",
       "    }\n",
       "\n",
       "    .dataframe tbody tr th {\n",
       "        vertical-align: top;\n",
       "    }\n",
       "\n",
       "    .dataframe thead th {\n",
       "        text-align: right;\n",
       "    }\n",
       "</style>\n",
       "<table border=\"1\" class=\"dataframe\">\n",
       "  <thead>\n",
       "    <tr style=\"text-align: right;\">\n",
       "      <th></th>\n",
       "      <th>OrderId</th>\n",
       "      <th>Address</th>\n",
       "      <th>Rooms</th>\n",
       "      <th>Area</th>\n",
       "      <th>Price</th>\n",
       "    </tr>\n",
       "  </thead>\n",
       "  <tbody>\n",
       "    <tr>\n",
       "      <th>0</th>\n",
       "      <td>1693998201-1</td>\n",
       "      <td>Neuhusstrasse 6, 8630 Rüti ZH, ZH</td>\n",
       "      <td>3.0</td>\n",
       "      <td>49.0</td>\n",
       "      <td>1441.0</td>\n",
       "    </tr>\n",
       "    <tr>\n",
       "      <th>1</th>\n",
       "      <td>1693998201-2</td>\n",
       "      <td>Zürcherstrasse 1, 8173 Neerach, ZH</td>\n",
       "      <td>3.5</td>\n",
       "      <td>65.0</td>\n",
       "      <td>1850.0</td>\n",
       "    </tr>\n",
       "    <tr>\n",
       "      <th>2</th>\n",
       "      <td>1693998201-4</td>\n",
       "      <td>Cramerstrasse 8-12, 8004 Zürich, ZH</td>\n",
       "      <td>2.0</td>\n",
       "      <td>54.0</td>\n",
       "      <td>4853.0</td>\n",
       "    </tr>\n",
       "    <tr>\n",
       "      <th>3</th>\n",
       "      <td>1693998201-5</td>\n",
       "      <td>Rotachstrasse 33, 8003 Zürich, ZH</td>\n",
       "      <td>2.0</td>\n",
       "      <td>49.0</td>\n",
       "      <td>4335.0</td>\n",
       "    </tr>\n",
       "    <tr>\n",
       "      <th>4</th>\n",
       "      <td>1693998201-16</td>\n",
       "      <td>Wolframplatz 1, 8045 Zürich, ZH</td>\n",
       "      <td>2.0</td>\n",
       "      <td>32.0</td>\n",
       "      <td>3515.0</td>\n",
       "    </tr>\n",
       "    <tr>\n",
       "      <th>...</th>\n",
       "      <td>...</td>\n",
       "      <td>...</td>\n",
       "      <td>...</td>\n",
       "      <td>...</td>\n",
       "      <td>...</td>\n",
       "    </tr>\n",
       "    <tr>\n",
       "      <th>958</th>\n",
       "      <td>1693998381-1004</td>\n",
       "      <td>Hölderlinstrasse 12, 8032 Zürich, ZH</td>\n",
       "      <td>3.5</td>\n",
       "      <td>82.0</td>\n",
       "      <td>2830.0</td>\n",
       "    </tr>\n",
       "    <tr>\n",
       "      <th>959</th>\n",
       "      <td>1693998381-1005</td>\n",
       "      <td>Hegifeldstrasse 70, 8404 Reutlingen (Winterthu...</td>\n",
       "      <td>4.0</td>\n",
       "      <td>73.0</td>\n",
       "      <td>1713.0</td>\n",
       "    </tr>\n",
       "    <tr>\n",
       "      <th>960</th>\n",
       "      <td>1693998381-1006</td>\n",
       "      <td>Holzmoosrütisteig 2b, 8820 Wädenswil, ZH</td>\n",
       "      <td>4.5</td>\n",
       "      <td>110.0</td>\n",
       "      <td>3500.0</td>\n",
       "    </tr>\n",
       "    <tr>\n",
       "      <th>961</th>\n",
       "      <td>1693998381-1007</td>\n",
       "      <td>Vogelbuckstrasse 25, 8307 Effretikon, ZH</td>\n",
       "      <td>3.0</td>\n",
       "      <td>68.0</td>\n",
       "      <td>1650.0</td>\n",
       "    </tr>\n",
       "    <tr>\n",
       "      <th>962</th>\n",
       "      <td>1693998381-1008</td>\n",
       "      <td>Maneggstrasse 83, 8041 Zürich, ZH</td>\n",
       "      <td>4.5</td>\n",
       "      <td>114.0</td>\n",
       "      <td>3262.0</td>\n",
       "    </tr>\n",
       "  </tbody>\n",
       "</table>\n",
       "<p>963 rows × 5 columns</p>\n",
       "</div>"
      ],
      "text/plain": [
       "             OrderId                                            Address  \\\n",
       "0       1693998201-1                  Neuhusstrasse 6, 8630 Rüti ZH, ZH   \n",
       "1       1693998201-2                 Zürcherstrasse 1, 8173 Neerach, ZH   \n",
       "2       1693998201-4                Cramerstrasse 8-12, 8004 Zürich, ZH   \n",
       "3       1693998201-5                  Rotachstrasse 33, 8003 Zürich, ZH   \n",
       "4      1693998201-16                    Wolframplatz 1, 8045 Zürich, ZH   \n",
       "..               ...                                                ...   \n",
       "958  1693998381-1004               Hölderlinstrasse 12, 8032 Zürich, ZH   \n",
       "959  1693998381-1005  Hegifeldstrasse 70, 8404 Reutlingen (Winterthu...   \n",
       "960  1693998381-1006           Holzmoosrütisteig 2b, 8820 Wädenswil, ZH   \n",
       "961  1693998381-1007           Vogelbuckstrasse 25, 8307 Effretikon, ZH   \n",
       "962  1693998381-1008                  Maneggstrasse 83, 8041 Zürich, ZH   \n",
       "\n",
       "     Rooms   Area   Price  \n",
       "0      3.0   49.0  1441.0  \n",
       "1      3.5   65.0  1850.0  \n",
       "2      2.0   54.0  4853.0  \n",
       "3      2.0   49.0  4335.0  \n",
       "4      2.0   32.0  3515.0  \n",
       "..     ...    ...     ...  \n",
       "958    3.5   82.0  2830.0  \n",
       "959    4.0   73.0  1713.0  \n",
       "960    4.5  110.0  3500.0  \n",
       "961    3.0   68.0  1650.0  \n",
       "962    4.5  114.0  3262.0  \n",
       "\n",
       "[963 rows x 5 columns]"
      ]
     },
     "execution_count": 64,
     "metadata": {},
     "output_type": "execute_result"
    }
   ],
   "source": [
    "# Query the SQL-table\n",
    "cursor.execute('''SELECT *\n",
    "               FROM apartments_table\n",
    "               WHERE rooms >=1''')\n",
    "\n",
    "df = pd.DataFrame(cursor.fetchall(), \n",
    "                  columns=['OrderId','Address','Rooms','Area','Price'])    \n",
    "df"
   ]
  },
  {
   "cell_type": "markdown",
   "id": "0cc2274f",
   "metadata": {},
   "source": [
    "## Plot histogramm of rental prices"
   ]
  },
  {
   "cell_type": "code",
   "execution_count": 65,
   "id": "60146b13",
   "metadata": {},
   "outputs": [
    {
     "data": {
      "image/png": "[encoded data removed]",
      "text/plain": [
       "<Figure size 640x480 with 1 Axes>"
      ]
     },
     "metadata": {},
     "output_type": "display_data"
    }
   ],
   "source": [
    "df.Price.plot.hist(grid=True, \n",
    "                   bins=20, \n",
    "                   rwidth=0.9,\n",
    "                   color='#607c8e')\n",
    "plt.title('Apartment price')\n",
    "plt.xlabel('Price')\n",
    "plt.ylabel('Frequency')\n",
    "plt.grid(axis='y', alpha=0.75)"
   ]
  },
  {
   "cell_type": "markdown",
   "id": "bc2855eb",
   "metadata": {},
   "source": [
    "## Additional SQL-queries"
   ]
  },
  {
   "cell_type": "code",
   "execution_count": null,
   "id": "c14f7c97",
   "metadata": {},
   "outputs": [
    {
     "data": {
      "text/html": [
       "<div>\n",
       "<style scoped>\n",
       "    .dataframe tbody tr th:only-of-type {\n",
       "        vertical-align: middle;\n",
       "    }\n",
       "\n",
       "    .dataframe tbody tr th {\n",
       "        vertical-align: top;\n",
       "    }\n",
       "\n",
       "    .dataframe thead th {\n",
       "        text-align: right;\n",
       "    }\n",
       "</style>\n",
       "<table border=\"1\" class=\"dataframe\">\n",
       "  <thead>\n",
       "    <tr style=\"text-align: right;\">\n",
       "      <th></th>\n",
       "      <th>Rooms</th>\n",
       "      <th>Avg_Area</th>\n",
       "    </tr>\n",
       "  </thead>\n",
       "  <tbody>\n",
       "    <tr>\n",
       "      <th>0</th>\n",
       "      <td>NaN</td>\n",
       "      <td>NaN</td>\n",
       "    </tr>\n",
       "    <tr>\n",
       "      <th>1</th>\n",
       "      <td>1.0</td>\n",
       "      <td>32.092593</td>\n",
       "    </tr>\n",
       "    <tr>\n",
       "      <th>2</th>\n",
       "      <td>1.5</td>\n",
       "      <td>35.526316</td>\n",
       "    </tr>\n",
       "    <tr>\n",
       "      <th>3</th>\n",
       "      <td>2.0</td>\n",
       "      <td>54.428571</td>\n",
       "    </tr>\n",
       "    <tr>\n",
       "      <th>4</th>\n",
       "      <td>2.5</td>\n",
       "      <td>67.317881</td>\n",
       "    </tr>\n",
       "    <tr>\n",
       "      <th>5</th>\n",
       "      <td>3.0</td>\n",
       "      <td>68.980392</td>\n",
       "    </tr>\n",
       "    <tr>\n",
       "      <th>6</th>\n",
       "      <td>3.5</td>\n",
       "      <td>89.858974</td>\n",
       "    </tr>\n",
       "    <tr>\n",
       "      <th>7</th>\n",
       "      <td>4.0</td>\n",
       "      <td>96.129032</td>\n",
       "    </tr>\n",
       "    <tr>\n",
       "      <th>8</th>\n",
       "      <td>4.5</td>\n",
       "      <td>114.779661</td>\n",
       "    </tr>\n",
       "    <tr>\n",
       "      <th>9</th>\n",
       "      <td>5.0</td>\n",
       "      <td>110.000000</td>\n",
       "    </tr>\n",
       "    <tr>\n",
       "      <th>10</th>\n",
       "      <td>5.5</td>\n",
       "      <td>154.542373</td>\n",
       "    </tr>\n",
       "    <tr>\n",
       "      <th>11</th>\n",
       "      <td>6.0</td>\n",
       "      <td>530.750000</td>\n",
       "    </tr>\n",
       "    <tr>\n",
       "      <th>12</th>\n",
       "      <td>6.5</td>\n",
       "      <td>248.941176</td>\n",
       "    </tr>\n",
       "    <tr>\n",
       "      <th>13</th>\n",
       "      <td>7.0</td>\n",
       "      <td>195.000000</td>\n",
       "    </tr>\n",
       "    <tr>\n",
       "      <th>14</th>\n",
       "      <td>7.5</td>\n",
       "      <td>205.000000</td>\n",
       "    </tr>\n",
       "    <tr>\n",
       "      <th>15</th>\n",
       "      <td>8.0</td>\n",
       "      <td>160.000000</td>\n",
       "    </tr>\n",
       "    <tr>\n",
       "      <th>16</th>\n",
       "      <td>8.5</td>\n",
       "      <td>210.000000</td>\n",
       "    </tr>\n",
       "  </tbody>\n",
       "</table>\n",
       "</div>"
      ],
      "text/plain": [
       "    Rooms    Avg_Area\n",
       "0     NaN         NaN\n",
       "1     1.0   32.092593\n",
       "2     1.5   35.526316\n",
       "3     2.0   54.428571\n",
       "4     2.5   67.317881\n",
       "5     3.0   68.980392\n",
       "6     3.5   89.858974\n",
       "7     4.0   96.129032\n",
       "8     4.5  114.779661\n",
       "9     5.0  110.000000\n",
       "10    5.5  154.542373\n",
       "11    6.0  530.750000\n",
       "12    6.5  248.941176\n",
       "13    7.0  195.000000\n",
       "14    7.5  205.000000\n",
       "15    8.0  160.000000\n",
       "16    8.5  210.000000"
      ]
     },
     "execution_count": 66,
     "metadata": {},
     "output_type": "execute_result"
    }
   ],
   "source": [
    "#Write an SQL-query to filter all apartments with >= 4.0 rooms and where the area is >= 100m2\n",
    "\n",
    "cursor.execute('''SELECT *\n",
    "               FROM apartments_table\n",
    "               WHERE rooms >=4.0 AND area >=100''')\n",
    "df2 = pd.DataFrame(cursor.fetchall(), \n",
    "                  columns=['OrderId','Address','Rooms','Area','Price'])    \n",
    "df2\n",
    "\n",
    "#Write an SQL-query to calculate the average price per room size, i.e. 1.0, 1.5, 2.5\n",
    "cursor.execute('''SELECT rooms, AVG(price) AS avg_price\n",
    "               FROM apartments_table\n",
    "               GROUP BY rooms\n",
    "               ORDER BY rooms''')\n",
    "df3 = pd.DataFrame(cursor.fetchall(), \n",
    "                  columns=['Rooms','Avg_Price'])    \n",
    "df3\n",
    "\n",
    "#Write an SQL-query to calculate the average area per room size.\n",
    "cursor.execute('''SELECT rooms, AVG(area) AS avg_area\n",
    "               FROM apartments_table\n",
    "               GROUP BY rooms\n",
    "               ORDER BY rooms''')\n",
    "df4 = pd.DataFrame(cursor.fetchall(), \n",
    "                  columns=['Rooms','Avg_Area'])    \n",
    "df4\n"
   ]
  },
  {
   "cell_type": "markdown",
   "id": "7904d668",
   "metadata": {},
   "source": [
    "## Close db connection (if open)"
   ]
  },
  {
   "cell_type": "code",
   "execution_count": 55,
   "id": "1b90d3ee",
   "metadata": {},
   "outputs": [
    {
     "name": "stdout",
     "output_type": "stream",
     "text": [
      "False\n"
     ]
    }
   ],
   "source": [
    "# Close db connection (if open)\n",
    "try:\n",
    "    if check_conn(conn):\n",
    "        conn.close()\n",
    "    else:\n",
    "        pass\n",
    "except:\n",
    "    pass\n",
    "\n",
    "# Status (True = open, False = closed)\n",
    "print(check_conn(conn))"
   ]
  },
  {
   "cell_type": "markdown",
   "id": "e847eb93",
   "metadata": {},
   "source": [
    "### Jupyter notebook --footer info-- (please always provide this at the end of each submitted notebook)"
   ]
  },
  {
   "cell_type": "code",
   "execution_count": 56,
   "id": "8e706987",
   "metadata": {},
   "outputs": [
    {
     "name": "stdout",
     "output_type": "stream",
     "text": [
      "-----------------------------------\n",
      "POSIX\n",
      "Darwin | 24.6.0\n",
      "Datetime: 2025-09-25 13:30:17\n",
      "Python Version: 3.10.15\n",
      "-----------------------------------\n"
     ]
    }
   ],
   "source": [
    "import os\n",
    "import platform\n",
    "import socket\n",
    "from platform import python_version\n",
    "from datetime import datetime\n",
    "\n",
    "print('-----------------------------------')\n",
    "print(os.name.upper())\n",
    "print(platform.system(), '|', platform.release())\n",
    "print('Datetime:', datetime.now().strftime(\"%Y-%m-%d %H:%M:%S\"))\n",
    "print('Python Version:', python_version())\n",
    "print('-----------------------------------')"
   ]
  }
 ],
 "metadata": {
  "kernelspec": {
   "display_name": "data_analytics",
   "language": "python",
   "name": "python3"
  },
  "language_info": {
   "codemirror_mode": {
    "name": "ipython",
    "version": 3
   },
   "file_extension": ".py",
   "mimetype": "text/x-python",
   "name": "python",
   "nbconvert_exporter": "python",
   "pygments_lexer": "ipython3",
   "version": "3.10.15"
  }
 },
 "nbformat": 4,
 "nbformat_minor": 5
}
